{
 "cells": [
  {
   "cell_type": "code",
   "execution_count": 1,
   "metadata": {},
   "outputs": [],
   "source": [
    "import tensorflow as tf\n",
    "\n",
    "from tensorflow.keras import datasets, preprocessing, models, layers, utils, losses, optimizers\n",
    "\n",
    "import matplotlib.pyplot as plt"
   ]
  },
  {
   "cell_type": "code",
   "execution_count": 2,
   "metadata": {},
   "outputs": [],
   "source": [
    "## TODO: find a dataset"
   ]
  },
  {
   "cell_type": "code",
   "execution_count": 3,
   "metadata": {},
   "outputs": [],
   "source": [
    "class AlexNet:\n",
    "    \n",
    "    def __init__(self, input_shape, num_categories, epochs, batch_size, learning_rate, momentum):\n",
    "    \n",
    "        '''\n",
    "        Intializes the required parameters\n",
    "        '''\n",
    "        self._input_shape = input_shape\n",
    "        self._num_categories = num_categories\n",
    "        self._epochs = epochs\n",
    "        self._batch_size = batch_size\n",
    "        self._learning_rate = learning_rate\n",
    "        self._momentum = momentum\n",
    "        \n",
    "        self._model = None\n",
    "        self._hist = None\n",
    "        \n",
    "    def create_model(self):\n",
    "            \n",
    "        '''\n",
    "        AlexNet model defined in the paper \"ImageNet Classification with Deep Convolutional Neural Networks\"\n",
    "\n",
    "        8 layers = 5 convolutional + 3 fully connected \n",
    "\n",
    "        Details with ImageNet data:\n",
    "        224×224×3 input image \n",
    "        → 96 kernels of size 11×11×3; stride is 4px; \n",
    "        → response norm + max pooling \n",
    "        → 256 kernels of size 5×5×48 \n",
    "        → response norm + max pooling \n",
    "        → 384 kernels of size 3×3×256 \n",
    "        → 384 kernels of size 3×3×192 \n",
    "        → 256 kernels of size 3×3×192 \n",
    "        → FC layer of 4096 \n",
    "        → FC layer of 4096 \n",
    "        → FC layer of 1000\n",
    "\n",
    "        The last FC layer gets fed into a 10 node softmax function which outputs probability for each of the 10 classes.\n",
    "\n",
    "        Arguments: \n",
    "            input_shape: the image shape as a tuple (width, height)  \n",
    "        '''\n",
    "        self._model = models.Sequential()\n",
    "        \n",
    "        #32x32x3\n",
    "        self._model.add(layers.Conv2D(filters=96, kernel_size=(11, 11), strides=4, padding='valid', \n",
    "                                      kernel_initializer='he_normal', \n",
    "                                      activation='relu', \n",
    "                                      input_shape=self._input_shape))\n",
    "        \n",
    "        self._model.add(layers.MaxPooling2D(pool_size=(3, 3), strides=(2, 2), padding= 'valid'))\n",
    "        \n",
    "        self._model.add(layers.Conv2D(filters=256, kernel_size=(5, 5), strides=1, kernel_initializer='he_normal', activation='relu'))\n",
    "        self._model.add(layers.MaxPooling2D(pool_size=(3, 3), strides=(2, 2), padding= 'valid'))\n",
    "\n",
    "        self._model.add(layers.Conv2D(filters=384, kernel_size=(3, 3), kernel_initializer= 'he_normal', activation='relu'))\n",
    "\n",
    "        self._model.add(layers.Conv2D(filters=384, kernel_size=(3, 3), kernel_initializer= 'he_normal', activation='relu'))\n",
    "\n",
    "        self._model.add(layers.Conv2D(filters=256, kernel_size=(3, 3), kernel_initializer= 'he_normal',  activation='relu'))\n",
    "        self._model.add(layers.MaxPooling2D(pool_size=(3, 3), strides=(2, 2), padding= 'valid'))\n",
    "\n",
    "        self._model.add(layers.Flatten())\n",
    "\n",
    "        self._model.add(layers.Dense(units=4096, activation='relu'))\n",
    "        self._model.add(layers.Dropout(0.5))\n",
    "\n",
    "        self._model.add(layers.Dense(units=4096, activation='relu'))\n",
    "        self._model.add(layers.Dropout(0.5))\n",
    "        \n",
    "        self._model.add(layers.Dense(units=1000, activation='relu'))\n",
    "\n",
    "\n",
    "    def preprocess_data(self, X_train, Y_train, X_test, Y_test):\n",
    "        \n",
    "        X_train = X_train / 255.0 \n",
    "        X_test = X_test / 255.0\n",
    "        \n",
    "        Y_train = utils.to_categorical(Y_train, self._num_categories)\n",
    "        Y_train = utils.to_categorical(Y_train, self._num_categories)\n",
    "        \n",
    "        \n",
    "        self._datagen = preprocessing.image.ImageDataGenerator(width_shift_range=0.1,\n",
    "                                                               height_shift_range=0.1,\n",
    "                                                               horizontal_flip=True)\n",
    "\n",
    "        return (X_train, X_test), (Y_train, Y_test)\n",
    "        \n",
    "        \n",
    "    def train(self, X_train, Y_train): \n",
    "        '''\n",
    "        compiles and runs the model\n",
    "        \n",
    "        '''\n",
    "        self._model.compile(optimizer=optimizers.Adam(self._momentum), \n",
    "                            loss=losses.CategoricalCrossentropy(from_logits=True), \n",
    "                            metrics=['accuracy'])\n",
    "        \n",
    "        self._hist = self._model.fit_generator(self._datagen.flow(X_train, Y_train, batch_size=self._batch_size), \n",
    "                                  steps_per_epoch=len(X_train) / self._batch_size, \n",
    "                                  epochs=self._epochs)\n",
    "        \n",
    "        return self._hist"
   ]
  },
  {
   "cell_type": "code",
   "execution_count": null,
   "metadata": {},
   "outputs": [],
   "source": []
  },
  {
   "cell_type": "code",
   "execution_count": 5,
   "metadata": {},
   "outputs": [],
   "source": [
    "alexnet = AlexNet(input_shape=(224, 224, 3), num_categories=10, epochs=10, batch_size=50, learning_rate=0.01, momentum=0.9)"
   ]
  },
  {
   "cell_type": "code",
   "execution_count": 6,
   "metadata": {},
   "outputs": [],
   "source": [
    "(train_images, train_labels), (test_images, test_labels) = alexnet.preprocess_data(train_images, train_labels, test_images, test_labels)"
   ]
  },
  {
   "cell_type": "code",
   "execution_count": 7,
   "metadata": {},
   "outputs": [],
   "source": [
    "alexnet.create_model()"
   ]
  },
  {
   "cell_type": "code",
   "execution_count": null,
   "metadata": {},
   "outputs": [],
   "source": []
  }
 ],
 "metadata": {
  "kernelspec": {
   "display_name": "Python 3",
   "language": "python",
   "name": "python3"
  },
  "language_info": {
   "codemirror_mode": {
    "name": "ipython",
    "version": 3
   },
   "file_extension": ".py",
   "mimetype": "text/x-python",
   "name": "python",
   "nbconvert_exporter": "python",
   "pygments_lexer": "ipython3",
   "version": "3.7.6"
  }
 },
 "nbformat": 4,
 "nbformat_minor": 2
}
